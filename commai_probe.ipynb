{
 "cells": [
  {
   "cell_type": "markdown",
   "id": "a1b5e86d",
   "metadata": {},
   "source": [
    "データ条件\n",
    "- 高速走行中のデータだが、停車もデータとしてあり\n",
    "\n",
    "やりたいこと\n",
    "- まず、全データの可視化と各変数が何を表していそうか理解するノートブック\n",
    "- そもそも高速は何キロ速度が必要なのか（基準は自分で独自に決めて良い、n%は　nkm~nkmに収まるからなど）\n",
    "- 上記を満たすにはアクセルの踏む力はどの程度必要なのか\n",
    "- 上記を満たすには停車発進の何分程度は自力走行に頼らないといけないか\n",
    "- 速度とステアリング角度の関係、高速自動走行するまでなら何度まで対応しないといけないか（95%満たす閾値は？）\n",
    "\n",
    "設定を決めれないとどうしようもないときは自分でこう、と設定を決めてしまっていい"
   ]
  },
  {
   "cell_type": "code",
   "execution_count": 1,
   "id": "827eb826",
   "metadata": {},
   "outputs": [],
   "source": [
    "import pandas as pd\n",
    "import numpy as np\n",
    "%matplotlib inline\n",
    "import matplotlib.pyplot as plt\n",
    "import seaborn as sns\n"
   ]
  },
  {
   "cell_type": "code",
   "execution_count": 2,
   "id": "e3d2b2da",
   "metadata": {},
   "outputs": [],
   "source": [
    "df = pd.read_csv('../2016-02-11--21-32-47.csv/2016-02-11--21-32-47.csv', \n",
    "                 index_col=0)"
   ]
  },
  {
   "cell_type": "code",
   "execution_count": 3,
   "id": "defb7e32",
   "metadata": {
    "scrolled": true
   },
   "outputs": [
    {
     "data": {
      "text/html": [
       "<div>\n",
       "<style scoped>\n",
       "    .dataframe tbody tr th:only-of-type {\n",
       "        vertical-align: middle;\n",
       "    }\n",
       "\n",
       "    .dataframe tbody tr th {\n",
       "        vertical-align: top;\n",
       "    }\n",
       "\n",
       "    .dataframe thead th {\n",
       "        text-align: right;\n",
       "    }\n",
       "</style>\n",
       "<table border=\"1\" class=\"dataframe\">\n",
       "  <thead>\n",
       "    <tr style=\"text-align: right;\">\n",
       "      <th></th>\n",
       "      <th>blinker</th>\n",
       "      <th>brake</th>\n",
       "      <th>brake_computer</th>\n",
       "      <th>brake_user</th>\n",
       "      <th>cam1_ptr</th>\n",
       "      <th>cam2_ptr</th>\n",
       "      <th>camphone_ptr</th>\n",
       "      <th>car_accel</th>\n",
       "      <th>fiber_compass_x</th>\n",
       "      <th>fiber_compass_y</th>\n",
       "      <th>...</th>\n",
       "      <th>velodyne_imu_2</th>\n",
       "      <th>velodyne_imu_3</th>\n",
       "      <th>velodyne_imu_4</th>\n",
       "      <th>velodyne_imu_5</th>\n",
       "      <th>velodyne_imu_6</th>\n",
       "      <th>velodyne_imu_7</th>\n",
       "      <th>velodyne_imu_8</th>\n",
       "      <th>velodyne_imu_9</th>\n",
       "      <th>velodyne_imu_10</th>\n",
       "      <th>velodyne_imu_11</th>\n",
       "    </tr>\n",
       "  </thead>\n",
       "  <tbody>\n",
       "    <tr>\n",
       "      <th>0</th>\n",
       "      <td>0.0</td>\n",
       "      <td>0.0</td>\n",
       "      <td>0.0</td>\n",
       "      <td>0.0</td>\n",
       "      <td>0.0</td>\n",
       "      <td>0.0</td>\n",
       "      <td>0.0</td>\n",
       "      <td>0.0</td>\n",
       "      <td>-0.114427</td>\n",
       "      <td>0.134096</td>\n",
       "      <td>...</td>\n",
       "      <td>795.000000</td>\n",
       "      <td>4093.000000</td>\n",
       "      <td>4094.000000</td>\n",
       "      <td>4086.000000</td>\n",
       "      <td>788.000000</td>\n",
       "      <td>4077.000000</td>\n",
       "      <td>96.000000</td>\n",
       "      <td>9.000000</td>\n",
       "      <td>12.000000</td>\n",
       "      <td>4077.000000</td>\n",
       "    </tr>\n",
       "    <tr>\n",
       "      <th>1</th>\n",
       "      <td>0.0</td>\n",
       "      <td>0.0</td>\n",
       "      <td>0.0</td>\n",
       "      <td>0.0</td>\n",
       "      <td>0.0</td>\n",
       "      <td>0.0</td>\n",
       "      <td>0.0</td>\n",
       "      <td>0.0</td>\n",
       "      <td>-0.228853</td>\n",
       "      <td>0.268192</td>\n",
       "      <td>...</td>\n",
       "      <td>789.257336</td>\n",
       "      <td>4074.814898</td>\n",
       "      <td>4092.085779</td>\n",
       "      <td>4086.000000</td>\n",
       "      <td>781.300225</td>\n",
       "      <td>4072.214447</td>\n",
       "      <td>98.871332</td>\n",
       "      <td>9.957111</td>\n",
       "      <td>21.571107</td>\n",
       "      <td>4067.428893</td>\n",
       "    </tr>\n",
       "    <tr>\n",
       "      <th>2</th>\n",
       "      <td>0.0</td>\n",
       "      <td>0.0</td>\n",
       "      <td>0.0</td>\n",
       "      <td>0.0</td>\n",
       "      <td>0.0</td>\n",
       "      <td>0.0</td>\n",
       "      <td>0.0</td>\n",
       "      <td>0.0</td>\n",
       "      <td>-0.228853</td>\n",
       "      <td>0.268192</td>\n",
       "      <td>...</td>\n",
       "      <td>789.230567</td>\n",
       "      <td>4087.000000</td>\n",
       "      <td>4090.000000</td>\n",
       "      <td>4085.000000</td>\n",
       "      <td>788.000000</td>\n",
       "      <td>4066.000000</td>\n",
       "      <td>98.000000</td>\n",
       "      <td>9.000000</td>\n",
       "      <td>14.000000</td>\n",
       "      <td>4061.000000</td>\n",
       "    </tr>\n",
       "    <tr>\n",
       "      <th>3</th>\n",
       "      <td>0.0</td>\n",
       "      <td>0.0</td>\n",
       "      <td>0.0</td>\n",
       "      <td>0.0</td>\n",
       "      <td>0.0</td>\n",
       "      <td>0.0</td>\n",
       "      <td>0.0</td>\n",
       "      <td>0.0</td>\n",
       "      <td>-0.228853</td>\n",
       "      <td>0.268192</td>\n",
       "      <td>...</td>\n",
       "      <td>796.000000</td>\n",
       "      <td>4085.000000</td>\n",
       "      <td>8.000000</td>\n",
       "      <td>4086.000000</td>\n",
       "      <td>793.067729</td>\n",
       "      <td>4063.483068</td>\n",
       "      <td>86.033864</td>\n",
       "      <td>9.550797</td>\n",
       "      <td>9.864543</td>\n",
       "      <td>4061.932271</td>\n",
       "    </tr>\n",
       "    <tr>\n",
       "      <th>4</th>\n",
       "      <td>0.0</td>\n",
       "      <td>0.0</td>\n",
       "      <td>0.0</td>\n",
       "      <td>0.0</td>\n",
       "      <td>0.0</td>\n",
       "      <td>0.0</td>\n",
       "      <td>0.0</td>\n",
       "      <td>0.0</td>\n",
       "      <td>-0.228853</td>\n",
       "      <td>0.268192</td>\n",
       "      <td>...</td>\n",
       "      <td>791.294550</td>\n",
       "      <td>2322.822546</td>\n",
       "      <td>0.000000</td>\n",
       "      <td>4086.136966</td>\n",
       "      <td>794.157584</td>\n",
       "      <td>4068.958765</td>\n",
       "      <td>103.232698</td>\n",
       "      <td>11.000000</td>\n",
       "      <td>5.410899</td>\n",
       "      <td>4068.821799</td>\n",
       "    </tr>\n",
       "  </tbody>\n",
       "</table>\n",
       "<p>5 rows × 77 columns</p>\n",
       "</div>"
      ],
      "text/plain": [
       "   blinker  brake  brake_computer  brake_user  cam1_ptr  cam2_ptr  \\\n",
       "0      0.0    0.0             0.0         0.0       0.0       0.0   \n",
       "1      0.0    0.0             0.0         0.0       0.0       0.0   \n",
       "2      0.0    0.0             0.0         0.0       0.0       0.0   \n",
       "3      0.0    0.0             0.0         0.0       0.0       0.0   \n",
       "4      0.0    0.0             0.0         0.0       0.0       0.0   \n",
       "\n",
       "   camphone_ptr  car_accel  fiber_compass_x  fiber_compass_y  ...  \\\n",
       "0           0.0        0.0        -0.114427         0.134096  ...   \n",
       "1           0.0        0.0        -0.228853         0.268192  ...   \n",
       "2           0.0        0.0        -0.228853         0.268192  ...   \n",
       "3           0.0        0.0        -0.228853         0.268192  ...   \n",
       "4           0.0        0.0        -0.228853         0.268192  ...   \n",
       "\n",
       "   velodyne_imu_2  velodyne_imu_3  velodyne_imu_4  velodyne_imu_5  \\\n",
       "0      795.000000     4093.000000     4094.000000     4086.000000   \n",
       "1      789.257336     4074.814898     4092.085779     4086.000000   \n",
       "2      789.230567     4087.000000     4090.000000     4085.000000   \n",
       "3      796.000000     4085.000000        8.000000     4086.000000   \n",
       "4      791.294550     2322.822546        0.000000     4086.136966   \n",
       "\n",
       "   velodyne_imu_6  velodyne_imu_7  velodyne_imu_8  velodyne_imu_9  \\\n",
       "0      788.000000     4077.000000       96.000000        9.000000   \n",
       "1      781.300225     4072.214447       98.871332        9.957111   \n",
       "2      788.000000     4066.000000       98.000000        9.000000   \n",
       "3      793.067729     4063.483068       86.033864        9.550797   \n",
       "4      794.157584     4068.958765      103.232698       11.000000   \n",
       "\n",
       "   velodyne_imu_10  velodyne_imu_11  \n",
       "0        12.000000      4077.000000  \n",
       "1        21.571107      4067.428893  \n",
       "2        14.000000      4061.000000  \n",
       "3         9.864543      4061.932271  \n",
       "4         5.410899      4068.821799  \n",
       "\n",
       "[5 rows x 77 columns]"
      ]
     },
     "execution_count": 3,
     "metadata": {},
     "output_type": "execute_result"
    }
   ],
   "source": [
    "df.head()"
   ]
  },
  {
   "cell_type": "code",
   "execution_count": 4,
   "id": "e4ca82f5",
   "metadata": {},
   "outputs": [
    {
     "name": "stdout",
     "output_type": "stream",
     "text": [
      "<class 'pandas.core.frame.DataFrame'>\n",
      "Int64Index: 426596 entries, 0 to 426595\n",
      "Data columns (total 77 columns):\n",
      " #   Column              Non-Null Count   Dtype  \n",
      "---  ------              --------------   -----  \n",
      " 0   blinker             426596 non-null  float64\n",
      " 1   brake               426596 non-null  float64\n",
      " 2   brake_computer      426596 non-null  float64\n",
      " 3   brake_user          426596 non-null  float64\n",
      " 4   cam1_ptr            426596 non-null  float64\n",
      " 5   cam2_ptr            426596 non-null  float64\n",
      " 6   camphone_ptr        426596 non-null  float64\n",
      " 7   car_accel           426596 non-null  float64\n",
      " 8   fiber_compass_x     426596 non-null  float64\n",
      " 9   fiber_compass_y     426596 non-null  float64\n",
      " 10  fiber_compass_z     426596 non-null  float64\n",
      " 11  fiber_temperature   426596 non-null  float64\n",
      " 12  gas                 426596 non-null  float64\n",
      " 13  gear_choice         426596 non-null  float64\n",
      " 14  gps_1_fix           426596 non-null  float64\n",
      " 15  gps_2_fix           426596 non-null  float64\n",
      " 16  idx                 426596 non-null  int64  \n",
      " 17  rpm                 426596 non-null  float64\n",
      " 18  rpm_post_torque     426596 non-null  float64\n",
      " 19  selfdrive           426596 non-null  float64\n",
      " 20  speed               426596 non-null  float64\n",
      " 21  speed_abs           426596 non-null  float64\n",
      " 22  speed_fl            426596 non-null  float64\n",
      " 23  speed_fr            426596 non-null  float64\n",
      " 24  speed_rl            426596 non-null  float64\n",
      " 25  speed_rr            426596 non-null  float64\n",
      " 26  standstill          426596 non-null  float64\n",
      " 27  steering_angle      426596 non-null  float64\n",
      " 28  steering_torque     426596 non-null  float64\n",
      " 29  times               426596 non-null  float64\n",
      " 30  fiber_accel_0       426596 non-null  float64\n",
      " 31  fiber_accel_1       426596 non-null  float64\n",
      " 32  fiber_accel_2       426596 non-null  float64\n",
      " 33  fiber_compass_0     426596 non-null  float64\n",
      " 34  fiber_compass_1     426596 non-null  float64\n",
      " 35  fiber_compass_2     426596 non-null  float64\n",
      " 36  fiber_gyro_0        426596 non-null  float64\n",
      " 37  fiber_gyro_1        426596 non-null  float64\n",
      " 38  fiber_gyro_2        426596 non-null  float64\n",
      " 39  gps_1_pos_0         426596 non-null  float64\n",
      " 40  gps_1_pos_1         426596 non-null  float64\n",
      " 41  gps_1_pos_2         426596 non-null  float64\n",
      " 42  gps_1_vel_0         426596 non-null  float64\n",
      " 43  gps_1_vel_1         426596 non-null  float64\n",
      " 44  gps_1_vel_2         426596 non-null  float64\n",
      " 45  gps_2_pos_0         426596 non-null  float64\n",
      " 46  gps_2_pos_1         426596 non-null  float64\n",
      " 47  gps_2_pos_2         426596 non-null  float64\n",
      " 48  gps_2_vel_0         426596 non-null  float64\n",
      " 49  gps_2_vel_1         426596 non-null  float64\n",
      " 50  gps_2_vel_2         426596 non-null  float64\n",
      " 51  imu_accel_0         426596 non-null  float64\n",
      " 52  imu_accel_1         426596 non-null  float64\n",
      " 53  imu_accel_2         426596 non-null  float64\n",
      " 54  imu_compass_0       426596 non-null  float64\n",
      " 55  imu_compass_1       426596 non-null  float64\n",
      " 56  imu_compass_2       426596 non-null  float64\n",
      " 57  imu_gyro_0          426596 non-null  float64\n",
      " 58  imu_gyro_1          426596 non-null  float64\n",
      " 59  imu_gyro_2          426596 non-null  float64\n",
      " 60  velodyne_gps_0      426596 non-null  float64\n",
      " 61  velodyne_gps_1      426596 non-null  float64\n",
      " 62  velodyne_gps_2      426596 non-null  float64\n",
      " 63  velodyne_heading_0  426596 non-null  float64\n",
      " 64  velodyne_heading_1  426596 non-null  float64\n",
      " 65  velodyne_imu_0      426596 non-null  float64\n",
      " 66  velodyne_imu_1      426596 non-null  float64\n",
      " 67  velodyne_imu_2      426596 non-null  float64\n",
      " 68  velodyne_imu_3      426596 non-null  float64\n",
      " 69  velodyne_imu_4      426596 non-null  float64\n",
      " 70  velodyne_imu_5      426596 non-null  float64\n",
      " 71  velodyne_imu_6      426596 non-null  float64\n",
      " 72  velodyne_imu_7      426596 non-null  float64\n",
      " 73  velodyne_imu_8      426596 non-null  float64\n",
      " 74  velodyne_imu_9      426596 non-null  float64\n",
      " 75  velodyne_imu_10     426596 non-null  float64\n",
      " 76  velodyne_imu_11     426596 non-null  float64\n",
      "dtypes: float64(76), int64(1)\n",
      "memory usage: 253.9 MB\n"
     ]
    }
   ],
   "source": [
    "df.info()"
   ]
  },
  {
   "cell_type": "markdown",
   "id": "7a8f8cf5",
   "metadata": {},
   "source": [
    "# 各変数の可視化"
   ]
  },
  {
   "cell_type": "markdown",
   "id": "c81d5b14",
   "metadata": {},
   "source": [
    "## blinker"
   ]
  },
  {
   "cell_type": "code",
   "execution_count": 5,
   "id": "4dea0848",
   "metadata": {},
   "outputs": [
    {
     "data": {
      "text/plain": [
       "count    426596.000000\n",
       "mean          6.111801\n",
       "std          10.159687\n",
       "min           0.000000\n",
       "25%           4.000000\n",
       "50%           4.000000\n",
       "75%           4.000000\n",
       "max          68.000000\n",
       "Name: blinker, dtype: float64"
      ]
     },
     "execution_count": 5,
     "metadata": {},
     "output_type": "execute_result"
    }
   ],
   "source": [
    "df['blinker'].describe()"
   ]
  },
  {
   "cell_type": "code",
   "execution_count": 6,
   "id": "b6330722",
   "metadata": {},
   "outputs": [
    {
     "data": {
      "image/png": "[encoded data removed]",
      "text/plain": [
       "<Figure size 432x288 with 1 Axes>"
      ]
     },
     "metadata": {
      "needs_background": "light"
     },
     "output_type": "display_data"
    }
   ],
   "source": [
    "plt.hist(df[\"blinker\"])\n",
    "plt.show()"
   ]
  },
  {
   "cell_type": "markdown",
   "id": "0f8c6276",
   "metadata": {},
   "source": [
    "blinker=車のウインカーの点滅回数と考えるとほとんどの車両が直進しているように考えられる  \n",
    "車線変更とかもそんなにしていない"
   ]
  },
  {
   "cell_type": "markdown",
   "id": "79dab07d",
   "metadata": {},
   "source": [
    "## brake"
   ]
  },
  {
   "cell_type": "code",
   "execution_count": 7,
   "id": "c224e8d8",
   "metadata": {},
   "outputs": [
    {
     "data": {
      "text/plain": [
       "count    426596.000000\n",
       "mean         67.459832\n",
       "std         896.478472\n",
       "min         -64.000000\n",
       "25%           0.000000\n",
       "50%           0.000000\n",
       "75%           0.000000\n",
       "max       63872.000000\n",
       "Name: brake, dtype: float64"
      ]
     },
     "execution_count": 7,
     "metadata": {},
     "output_type": "execute_result"
    }
   ],
   "source": [
    "df['brake'].describe()"
   ]
  },
  {
   "cell_type": "code",
   "execution_count": 8,
   "id": "249b2240",
   "metadata": {
    "scrolled": true
   },
   "outputs": [
    {
     "data": {
      "text/plain": [
       "count    426596.000000\n",
       "mean          0.146306\n",
       "std           8.869276\n",
       "min           0.000000\n",
       "25%           0.000000\n",
       "50%           0.000000\n",
       "75%           0.000000\n",
       "max         600.000000\n",
       "Name: brake_computer, dtype: float64"
      ]
     },
     "execution_count": 8,
     "metadata": {},
     "output_type": "execute_result"
    }
   ],
   "source": [
    "df[\"brake_computer\"].describe()"
   ]
  },
  {
   "cell_type": "code",
   "execution_count": 9,
   "id": "67cdd6a8",
   "metadata": {
    "scrolled": true
   },
   "outputs": [
    {
     "data": {
      "text/plain": [
       "count    426596.000000\n",
       "mean         67.313527\n",
       "std         896.439814\n",
       "min         -64.000000\n",
       "25%           0.000000\n",
       "50%           0.000000\n",
       "75%           0.000000\n",
       "max       63872.000000\n",
       "Name: brake_user, dtype: float64"
      ]
     },
     "execution_count": 9,
     "metadata": {},
     "output_type": "execute_result"
    }
   ],
   "source": [
    "df[\"brake_user\"].describe()"
   ]
  },
  {
   "cell_type": "code",
   "execution_count": 10,
   "id": "175367ab",
   "metadata": {},
   "outputs": [
    {
     "data": {
      "text/plain": [
       "<matplotlib.collections.PathCollection at 0x262412125e0>"
      ]
     },
     "execution_count": 10,
     "metadata": {},
     "output_type": "execute_result"
    },
    {
     "data": {
      "image/png": "[encoded data removed]",
      "text/plain": [
       "<Figure size 432x288 with 1 Axes>"
      ]
     },
     "metadata": {
      "needs_background": "light"
     },
     "output_type": "display_data"
    }
   ],
   "source": [
    "plt.scatter(df[\"brake_computer\"],df[\"brake_user\"])"
   ]
  },
  {
   "cell_type": "markdown",
   "id": "bc169141",
   "metadata": {},
   "source": [
    "あくまでcomputerのブレーキサポートはサポートでそもそもそんなに大きな影響は与えていなさそう  \n",
    "user側でブレーキの値が最大値63872になっていたりしていて、外れ値が存在している？  \n",
    "(データの説明のほうにはUser brake pedal depression [0-4095]とあり、最大値は4095になるはず？)  \n",
    "そもそもminの-64っていう値が何なのか？"
   ]
  },
  {
   "cell_type": "code",
   "execution_count": 11,
   "id": "57babf6c",
   "metadata": {
    "scrolled": false
   },
   "outputs": [
    {
     "data": {
      "image/png": "[encoded data removed]",
      "text/plain": [
       "<Figure size 432x288 with 1 Axes>"
      ]
     },
     "metadata": {
      "needs_background": "light"
     },
     "output_type": "display_data"
    }
   ],
   "source": [
    "fig, ax = plt.subplots()\n",
    "bp = ax.boxplot([df[\"brake_computer\"],df[\"brake_user\"]]) \n",
    "ax.set_xticklabels([\"brake_computer\", \"brake_user\"])\n",
    "plt.grid() \n",
    "plt.show()"
   ]
  },
  {
   "cell_type": "code",
   "execution_count": 18,
   "id": "b5abd5fb",
   "metadata": {},
   "outputs": [
    {
     "data": {
      "image/png": "[encoded data removed]",
      "text/plain": [
       "<Figure size 432x288 with 1 Axes>"
      ]
     },
     "metadata": {
      "needs_background": "light"
     },
     "output_type": "display_data"
    }
   ],
   "source": [
    "plt.bar(df[\"brake_user\"], df[\"brake_user\"].count())\n",
    "plt.show()"
   ]
  },
  {
   "cell_type": "markdown",
   "id": "807c8886",
   "metadata": {},
   "source": [
    "そもそもブレーキほとんどしていないと考えられそう"
   ]
  },
  {
   "cell_type": "markdown",
   "id": "f17a7bc0",
   "metadata": {},
   "source": [
    "## Camera frame"
   ]
  },
  {
   "cell_type": "code",
   "execution_count": 19,
   "id": "8ec52486",
   "metadata": {},
   "outputs": [
    {
     "data": {
      "text/plain": [
       "count    426596.000000\n",
       "mean      42642.889551\n",
       "std       24625.645076\n",
       "min           0.000000\n",
       "25%       21317.000000\n",
       "50%       42643.000000\n",
       "75%       63969.000000\n",
       "max       85295.000000\n",
       "Name: cam1_ptr, dtype: float64"
      ]
     },
     "execution_count": 19,
     "metadata": {},
     "output_type": "execute_result"
    }
   ],
   "source": [
    "df['cam1_ptr'].describe()"
   ]
  },
  {
   "cell_type": "code",
   "execution_count": 20,
   "id": "20de4f7c",
   "metadata": {},
   "outputs": [
    {
     "data": {
      "text/plain": [
       "count    426596.000000\n",
       "mean      42646.877505\n",
       "std       24628.027084\n",
       "min           0.000000\n",
       "25%       21319.000000\n",
       "50%       42647.000000\n",
       "75%       63975.000000\n",
       "max       85303.000000\n",
       "Name: cam2_ptr, dtype: float64"
      ]
     },
     "execution_count": 20,
     "metadata": {},
     "output_type": "execute_result"
    }
   ],
   "source": [
    "df['cam2_ptr'].describe()"
   ]
  },
  {
   "cell_type": "code",
   "execution_count": 21,
   "id": "f5470f69",
   "metadata": {},
   "outputs": [
    {
     "data": {
      "text/plain": [
       "<matplotlib.collections.PathCollection at 0x2639cb8eac0>"
      ]
     },
     "execution_count": 21,
     "metadata": {},
     "output_type": "execute_result"
    },
    {
     "data": {
      "image/png": "[encoded data removed]",
      "text/plain": [
       "<Figure size 432x288 with 1 Axes>"
      ]
     },
     "metadata": {
      "needs_background": "light"
     },
     "output_type": "display_data"
    }
   ],
   "source": [
    "plt.scatter(df[\"cam1_ptr\"],df[\"cam2_ptr\"])"
   ]
  },
  {
   "cell_type": "markdown",
   "id": "a8453e3c",
   "metadata": {},
   "source": [
    "Camera1とCamera2の違いは何？  \n",
    "とりあえずお互いのフレームインデックスと呼ばれるものが相関していることはわかる"
   ]
  },
  {
   "cell_type": "markdown",
   "id": "e080f131",
   "metadata": {},
   "source": [
    "## car accel"
   ]
  },
  {
   "cell_type": "code",
   "execution_count": 22,
   "id": "63da35d0",
   "metadata": {},
   "outputs": [
    {
     "data": {
      "text/plain": [
       "count    426596.000000\n",
       "mean         -0.001884\n",
       "std           0.482029\n",
       "min          -3.107535\n",
       "25%          -0.151163\n",
       "50%           0.000000\n",
       "75%           0.141300\n",
       "max           4.757706\n",
       "Name: car_accel, dtype: float64"
      ]
     },
     "execution_count": 22,
     "metadata": {},
     "output_type": "execute_result"
    }
   ],
   "source": [
    "df['car_accel'].describe()"
   ]
  },
  {
   "cell_type": "code",
   "execution_count": 25,
   "id": "861c44e0",
   "metadata": {},
   "outputs": [
    {
     "data": {
      "image/png": "[encoded data removed]",
      "text/plain": [
       "<Figure size 432x288 with 1 Axes>"
      ]
     },
     "metadata": {
      "needs_background": "light"
     },
     "output_type": "display_data"
    }
   ],
   "source": [
    "plt.hist(df[\"car_accel\"])\n",
    "plt.show()"
   ]
  },
  {
   "cell_type": "markdown",
   "id": "205d63cd",
   "metadata": {},
   "source": [
    "追加の加速する（アクセルを踏む）ことは意外と少ない？  "
   ]
  },
  {
   "cell_type": "markdown",
   "id": "19ddaa5c",
   "metadata": {},
   "source": [
    "## gear choise"
   ]
  },
  {
   "cell_type": "code",
   "execution_count": 27,
   "id": "a51d2f5b",
   "metadata": {},
   "outputs": [
    {
     "data": {
      "text/plain": [
       "count    426596.000000\n",
       "mean          7.528266\n",
       "std           2.151670\n",
       "min           0.000000\n",
       "25%           7.000000\n",
       "50%           8.000000\n",
       "75%           8.000000\n",
       "max          11.000000\n",
       "Name: gear_choice, dtype: float64"
      ]
     },
     "execution_count": 27,
     "metadata": {},
     "output_type": "execute_result"
    }
   ],
   "source": [
    "df[\"gear_choice\"].describe()"
   ]
  },
  {
   "cell_type": "code",
   "execution_count": 29,
   "id": "daf7ee9e",
   "metadata": {},
   "outputs": [
    {
     "data": {
      "image/png": "[encoded data removed]",
      "text/plain": [
       "<Figure size 432x288 with 1 Axes>"
      ]
     },
     "metadata": {
      "needs_background": "light"
     },
     "output_type": "display_data"
    }
   ],
   "source": [
    "plt.hist(df[\"gear_choice\"])\n",
    "plt.show()"
   ]
  },
  {
   "cell_type": "markdown",
   "id": "06916d00",
   "metadata": {},
   "source": [
    "0- パーク／ニュートラル、10- リバース、11- ギアチェンジ中  \n",
    "高速の運転中は基本的に8速で運転している人がほとんど\n",
    "\n"
   ]
  },
  {
   "cell_type": "markdown",
   "id": "911100fd",
   "metadata": {},
   "source": [
    "## post torque-converter"
   ]
  },
  {
   "cell_type": "code",
   "execution_count": 32,
   "id": "c5995637",
   "metadata": {},
   "outputs": [
    {
     "data": {
      "text/plain": [
       "count    426596.000000\n",
       "mean       1535.456993\n",
       "std         446.178803\n",
       "min           0.000000\n",
       "25%        1370.228516\n",
       "50%        1523.891576\n",
       "75%        1819.696037\n",
       "max        6530.970463\n",
       "Name: rpm_post_torque, dtype: float64"
      ]
     },
     "execution_count": 32,
     "metadata": {},
     "output_type": "execute_result"
    }
   ],
   "source": [
    "df[\"rpm_post_torque\"].describe()"
   ]
  },
  {
   "cell_type": "code",
   "execution_count": 33,
   "id": "ba3c0f4a",
   "metadata": {},
   "outputs": [
    {
     "data": {
      "image/png": "[encoded data removed]",
      "text/plain": [
       "<Figure size 432x288 with 1 Axes>"
      ]
     },
     "metadata": {
      "needs_background": "light"
     },
     "output_type": "display_data"
    }
   ],
   "source": [
    "plt.hist(df[\"rpm_post_torque\"])\n",
    "plt.show()"
   ]
  },
  {
   "cell_type": "markdown",
   "id": "6d0c1e04",
   "metadata": {},
   "source": [
    "## speed"
   ]
  },
  {
   "cell_type": "code",
   "execution_count": 34,
   "id": "fa1d75a5",
   "metadata": {},
   "outputs": [
    {
     "data": {
      "text/plain": [
       "count    426596.000000\n",
       "mean         22.086444\n",
       "std           8.611914\n",
       "min          -1.100775\n",
       "25%          16.836265\n",
       "50%          24.418821\n",
       "75%          26.809167\n",
       "max          33.284215\n",
       "Name: speed, dtype: float64"
      ]
     },
     "execution_count": 34,
     "metadata": {},
     "output_type": "execute_result"
    }
   ],
   "source": [
    "df[\"speed\"].describe()"
   ]
  },
  {
   "cell_type": "code",
   "execution_count": 36,
   "id": "b06f0eb8",
   "metadata": {},
   "outputs": [
    {
     "data": {
      "image/png": "[encoded data removed]",
      "text/plain": [
       "<Figure size 432x288 with 1 Axes>"
      ]
     },
     "metadata": {
      "needs_background": "light"
     },
     "output_type": "display_data"
    }
   ],
   "source": [
    "plt.hist(df[\"speed\"])\n",
    "plt.show()"
   ]
  },
  {
   "cell_type": "code",
   "execution_count": 37,
   "id": "85e9e323",
   "metadata": {},
   "outputs": [
    {
     "data": {
      "text/plain": [
       "count    426596.000000\n",
       "mean         22.087518\n",
       "std           8.609160\n",
       "min           0.000000\n",
       "25%          16.836265\n",
       "50%          24.418821\n",
       "75%          26.809167\n",
       "max          33.284215\n",
       "Name: speed_abs, dtype: float64"
      ]
     },
     "execution_count": 37,
     "metadata": {},
     "output_type": "execute_result"
    }
   ],
   "source": [
    "df[\"speed_abs\"].describe()"
   ]
  },
  {
   "cell_type": "code",
   "execution_count": 38,
   "id": "a5520247",
   "metadata": {
    "scrolled": false
   },
   "outputs": [
    {
     "data": {
      "image/png": "[encoded data removed]",
      "text/plain": [
       "<Figure size 432x288 with 1 Axes>"
      ]
     },
     "metadata": {
      "needs_background": "light"
     },
     "output_type": "display_data"
    }
   ],
   "source": [
    "plt.hist(df[\"speed_abs\"])\n",
    "plt.show()"
   ]
  },
  {
   "cell_type": "code",
   "execution_count": 39,
   "id": "cacaee22",
   "metadata": {},
   "outputs": [
    {
     "data": {
      "text/plain": [
       "<matplotlib.collections.PathCollection at 0x2639da19520>"
      ]
     },
     "execution_count": 39,
     "metadata": {},
     "output_type": "execute_result"
    },
    {
     "data": {
      "image/png": "[encoded data removed]",
      "text/plain": [
       "<Figure size 432x288 with 1 Axes>"
      ]
     },
     "metadata": {
      "needs_background": "light"
     },
     "output_type": "display_data"
    }
   ],
   "source": [
    "plt.scatter(df[\"speed\"],df[\"speed_abs\"])"
   ]
  },
  {
   "cell_type": "markdown",
   "id": "5ba66c16",
   "metadata": {},
   "source": [
    "値はm/s,変速後エンコーダから、ギアがReveseの時マイナス  \n",
    "最低値がマイナスなのでバックしている車もいる？  \n",
    "25m/sがボリュームゾーン  \n",
    "時速換算すると時速90km/hで走っている車がほとんど  \n",
    "少し以外なのは止まってる車も結構いそうということと、後退してる車もいること  \n",
    "speedとspeed_absの違いは何?絶対値としてspeedを扱っているとかそういう感じ？"
   ]
  },
  {
   "cell_type": "code",
   "execution_count": 40,
   "id": "29ec9ce0",
   "metadata": {},
   "outputs": [
    {
     "data": {
      "text/plain": [
       "count    426596.000000\n",
       "mean         22.033527\n",
       "std           8.595111\n",
       "min           0.000000\n",
       "25%          16.794127\n",
       "50%          24.360880\n",
       "75%          26.746618\n",
       "max          33.255361\n",
       "Name: speed_fl, dtype: float64"
      ]
     },
     "execution_count": 40,
     "metadata": {},
     "output_type": "execute_result"
    }
   ],
   "source": [
    "df[\"speed_fl\"].describe()"
   ]
  },
  {
   "cell_type": "code",
   "execution_count": 41,
   "id": "798b41de",
   "metadata": {},
   "outputs": [
    {
     "data": {
      "text/plain": [
       "count    426596.000000\n",
       "mean         22.031961\n",
       "std           8.587974\n",
       "min           0.000000\n",
       "25%          16.794479\n",
       "50%          24.355267\n",
       "75%          26.735245\n",
       "max          33.217556\n",
       "Name: speed_fr, dtype: float64"
      ]
     },
     "execution_count": 41,
     "metadata": {},
     "output_type": "execute_result"
    }
   ],
   "source": [
    "df[\"speed_fr\"].describe()"
   ]
  },
  {
   "cell_type": "code",
   "execution_count": 42,
   "id": "f0f28666",
   "metadata": {},
   "outputs": [
    {
     "data": {
      "text/plain": [
       "count    426596.000000\n",
       "mean         21.924487\n",
       "std           8.552771\n",
       "min           0.000000\n",
       "25%          16.723264\n",
       "50%          24.245886\n",
       "75%          26.621985\n",
       "max          33.068262\n",
       "Name: speed_rl, dtype: float64"
      ]
     },
     "execution_count": 42,
     "metadata": {},
     "output_type": "execute_result"
    }
   ],
   "source": [
    "df[\"speed_rl\"].describe()"
   ]
  },
  {
   "cell_type": "code",
   "execution_count": 43,
   "id": "b862f69f",
   "metadata": {},
   "outputs": [
    {
     "data": {
      "text/plain": [
       "count    426596.000000\n",
       "mean         21.935973\n",
       "std           8.550699\n",
       "min           0.000000\n",
       "25%          16.729753\n",
       "50%          24.257848\n",
       "75%          26.627154\n",
       "max          33.070822\n",
       "Name: speed_rr, dtype: float64"
      ]
     },
     "execution_count": 43,
     "metadata": {},
     "output_type": "execute_result"
    }
   ],
   "source": [
    "df[\"speed_rr\"].describe()"
   ]
  },
  {
   "cell_type": "code",
   "execution_count": 44,
   "id": "f9f5b50c",
   "metadata": {},
   "outputs": [
    {
     "data": {
      "text/plain": [
       "count    426596.000000\n",
       "mean         33.049508\n",
       "std          12.888980\n",
       "min           0.000000\n",
       "25%          25.194922\n",
       "50%          36.533318\n",
       "75%          40.115381\n",
       "max          49.839053\n",
       "Name: speed_fw, dtype: float64"
      ]
     },
     "execution_count": 44,
     "metadata": {},
     "output_type": "execute_result"
    }
   ],
   "source": [
    "df[\"speed_fw\"] = df[\"speed_fl\"] + df[\"speed_fr\"] / 2\n",
    "df[\"speed_fw\"].describe()"
   ]
  },
  {
   "cell_type": "code",
   "execution_count": 45,
   "id": "6cfbd103",
   "metadata": {},
   "outputs": [
    {
     "data": {
      "text/plain": [
       "count    426596.000000\n",
       "mean         32.892473\n",
       "std          12.827981\n",
       "min           0.000000\n",
       "25%          25.093977\n",
       "50%          36.368666\n",
       "75%          39.935389\n",
       "max          49.590732\n",
       "Name: speed_rw, dtype: float64"
      ]
     },
     "execution_count": 45,
     "metadata": {},
     "output_type": "execute_result"
    }
   ],
   "source": [
    "df[\"speed_rw\"] = df[\"speed_rl\"] + df[\"speed_rr\"] / 2\n",
    "df[\"speed_rw\"].describe()"
   ]
  },
  {
   "cell_type": "code",
   "execution_count": 46,
   "id": "666faac5",
   "metadata": {
    "scrolled": true
   },
   "outputs": [
    {
     "data": {
      "text/plain": [
       "<matplotlib.collections.PathCollection at 0x2639dd71820>"
      ]
     },
     "execution_count": 46,
     "metadata": {},
     "output_type": "execute_result"
    },
    {
     "data": {
      "image/png": "[encoded data removed]",
      "text/plain": [
       "<Figure size 432x288 with 1 Axes>"
      ]
     },
     "metadata": {
      "needs_background": "light"
     },
     "output_type": "display_data"
    }
   ],
   "source": [
    "plt.scatter(df[\"speed_fw\"],df[\"speed_rw\"])"
   ]
  },
  {
   "cell_type": "markdown",
   "id": "867196c1",
   "metadata": {},
   "source": [
    "扱っている単位がm/sなのであれば加速度も一応算出できる？  \n",
    "仮にできたとして、加速度で比較すれば4WDが多いのか、2WDが多いかとかの判断ができるようになる？"
   ]
  },
  {
   "cell_type": "markdown",
   "id": "02697191",
   "metadata": {},
   "source": [
    "## standstill"
   ]
  },
  {
   "cell_type": "code",
   "execution_count": 47,
   "id": "774d03d7",
   "metadata": {},
   "outputs": [
    {
     "data": {
      "text/plain": [
       "count    426596.000000\n",
       "mean          0.966052\n",
       "std           0.181095\n",
       "min           0.000000\n",
       "25%           1.000000\n",
       "50%           1.000000\n",
       "75%           1.000000\n",
       "max           1.000000\n",
       "Name: standstill, dtype: float64"
      ]
     },
     "execution_count": 47,
     "metadata": {},
     "output_type": "execute_result"
    }
   ],
   "source": [
    "df[\"standstill\"].describe()"
   ]
  },
  {
   "cell_type": "code",
   "execution_count": 48,
   "id": "ceb5f99f",
   "metadata": {},
   "outputs": [
    {
     "data": {
      "image/png": "[encoded data removed]",
      "text/plain": [
       "<Figure size 432x288 with 1 Axes>"
      ]
     },
     "metadata": {
      "needs_background": "light"
     },
     "output_type": "display_data"
    }
   ],
   "source": [
    "plt.hist(df[\"standstill\"])\n",
    "plt.show()"
   ]
  },
  {
   "cell_type": "markdown",
   "id": "ca443af8",
   "metadata": {},
   "source": [
    "基本的にどの車も動いてる  \n",
    "止まってる車だけで分析したら何か見えるものはあるかも？"
   ]
  },
  {
   "cell_type": "markdown",
   "id": "b757dc8e",
   "metadata": {},
   "source": [
    "## steering"
   ]
  },
  {
   "cell_type": "code",
   "execution_count": 50,
   "id": "a6a5b709",
   "metadata": {},
   "outputs": [
    {
     "data": {
      "text/plain": [
       "count    426596.000000\n",
       "mean        -10.660334\n",
       "std         326.499485\n",
       "min       -5102.000000\n",
       "25%         -17.000000\n",
       "50%          -9.000000\n",
       "75%           2.000000\n",
       "max        3381.000000\n",
       "Name: steering_angle, dtype: float64"
      ]
     },
     "execution_count": 50,
     "metadata": {},
     "output_type": "execute_result"
    }
   ],
   "source": [
    "df[\"steering_angle\"].describe()"
   ]
  },
  {
   "cell_type": "code",
   "execution_count": 51,
   "id": "e27b9758",
   "metadata": {},
   "outputs": [
    {
     "data": {
      "image/png": "[encoded data removed]",
      "text/plain": [
       "<Figure size 432x288 with 1 Axes>"
      ]
     },
     "metadata": {
      "needs_background": "light"
     },
     "output_type": "display_data"
    }
   ],
   "source": [
    "plt.hist(df[\"steering_angle\"])\n",
    "plt.show()"
   ]
  },
  {
   "cell_type": "code",
   "execution_count": 52,
   "id": "3896d71e",
   "metadata": {},
   "outputs": [
    {
     "data": {
      "text/plain": [
       "count    426596.000000\n",
       "mean          0.003078\n",
       "std          18.085393\n",
       "min        -483.395530\n",
       "25%          -0.630655\n",
       "50%           0.000000\n",
       "75%           0.812446\n",
       "max         512.000000\n",
       "Name: steering_torque, dtype: float64"
      ]
     },
     "execution_count": 52,
     "metadata": {},
     "output_type": "execute_result"
    }
   ],
   "source": [
    "df[\"steering_torque\"].describe()"
   ]
  },
  {
   "cell_type": "code",
   "execution_count": 53,
   "id": "c756d1ff",
   "metadata": {},
   "outputs": [
    {
     "data": {
      "image/png": "[encoded data removed]",
      "text/plain": [
       "<Figure size 432x288 with 1 Axes>"
      ]
     },
     "metadata": {
      "needs_background": "light"
     },
     "output_type": "display_data"
    }
   ],
   "source": [
    "plt.hist(df[\"steering_torque\"])\n",
    "plt.show()"
   ]
  },
  {
   "cell_type": "markdown",
   "id": "6110e354",
   "metadata": {},
   "source": [
    "トルクの説明文がdeg/s、名前はともかく、これはステアリングアングルのレートですとなっている  \n",
    "トルクのほうがタイヤが左右に向くときの秒速？でアングルのほうがハンドルをどれくらい傾けたかとか？  "
   ]
  },
  {
   "cell_type": "code",
   "execution_count": 54,
   "id": "75add371",
   "metadata": {},
   "outputs": [
    {
     "data": {
      "text/plain": [
       "<matplotlib.collections.PathCollection at 0x2639e4e95e0>"
      ]
     },
     "execution_count": 54,
     "metadata": {},
     "output_type": "execute_result"
    },
    {
     "data": {
      "image/png": "[encoded data removed]",
      "text/plain": [
       "<Figure size 432x288 with 1 Axes>"
      ]
     },
     "metadata": {
      "needs_background": "light"
     },
     "output_type": "display_data"
    }
   ],
   "source": [
    "plt.scatter(df[\"steering_angle\"], df[\"steering_torque\"])"
   ]
  },
  {
   "cell_type": "markdown",
   "id": "f7da25c1",
   "metadata": {},
   "source": [
    "nanndakore"
   ]
  },
  {
   "cell_type": "markdown",
   "id": "3905be80",
   "metadata": {},
   "source": [
    "## times "
   ]
  },
  {
   "cell_type": "code",
   "execution_count": 56,
   "id": "0a0d6752",
   "metadata": {},
   "outputs": [
    {
     "data": {
      "text/plain": [
       "count    426596.000000\n",
       "mean       2132.975000\n",
       "std        1231.478021\n",
       "min           0.000000\n",
       "25%        1066.487500\n",
       "50%        2132.975000\n",
       "75%        3199.462500\n",
       "max        4265.950000\n",
       "Name: times, dtype: float64"
      ]
     },
     "execution_count": 56,
     "metadata": {},
     "output_type": "execute_result"
    }
   ],
   "source": [
    "df[\"times\"].describe()"
   ]
  },
  {
   "cell_type": "code",
   "execution_count": 57,
   "id": "4c758c10",
   "metadata": {
    "scrolled": true
   },
   "outputs": [
    {
     "data": {
      "image/png": "[encoded data removed]",
      "text/plain": [
       "<Figure size 432x288 with 1 Axes>"
      ]
     },
     "metadata": {
      "needs_background": "light"
     },
     "output_type": "display_data"
    }
   ],
   "source": [
    "plt.hist(df[\"times\"])\n",
    "plt.show()"
   ]
  },
  {
   "cell_type": "markdown",
   "id": "68b96c59",
   "metadata": {},
   "source": [
    "変数の説明のほうには秒数としか書かれていない  \n",
    "運転開始してからの秒数とかそういうもの？"
   ]
  }
 ],
 "metadata": {
  "kernelspec": {
   "display_name": "Python 3",
   "language": "python",
   "name": "python3"
  },
  "language_info": {
   "codemirror_mode": {
    "name": "ipython",
    "version": 3
   },
   "file_extension": ".py",
   "mimetype": "text/x-python",
   "name": "python",
   "nbconvert_exporter": "python",
   "pygments_lexer": "ipython3",
   "version": "3.8.8"
  }
 },
 "nbformat": 4,
 "nbformat_minor": 5
}
