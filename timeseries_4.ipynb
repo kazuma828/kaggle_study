{
 "cells": [
  {
   "cell_type": "markdown",
   "id": "24f618f4",
   "metadata": {},
   "source": [
    "Context  \n",
    "Machine learning can be applied to time series datasets.\n",
    "\n",
    "Content  \n",
    "A problem when getting started in time series forecasting with machine learning is finding good quality standard datasets on which to practice.\n",
    "\n",
    "Acknowledgements  \n",
    "Almost every data scientist will encounter time series in their work and being able to effectively deal with such data is an important skill in the data science toolbox.Almost every data scientist will encounter time series in their work and being able to effectively deal with such data is an important skill in the data science toolbox.\n",
    "\n",
    "Inspiration  \n",
    "Let’s begin from basics."
   ]
  },
  {
   "cell_type": "code",
   "execution_count": 32,
   "id": "2327cb2c",
   "metadata": {},
   "outputs": [],
   "source": [
    "import pandas as pd\n",
    "import numpy as np\n",
    "import matplotlib.pyplot as plt\n",
    "plt.style.use('fivethirtyeight')\n",
    "%matplotlib inline\n",
    "import seaborn as sns\n",
    "import plotly.express as px\n",
    "pd.options.display.float_format='{:.2f}'.format"
   ]
  },
  {
   "cell_type": "code",
   "execution_count": 13,
   "id": "de4a5c1a",
   "metadata": {},
   "outputs": [],
   "source": [
    "df = pd.read_csv('../input/Month_Value_1.csv')"
   ]
  },
  {
   "cell_type": "code",
   "execution_count": 14,
   "id": "bd3c9ef1",
   "metadata": {},
   "outputs": [
    {
     "data": {
      "text/html": [
       "<div>\n",
       "<style scoped>\n",
       "    .dataframe tbody tr th:only-of-type {\n",
       "        vertical-align: middle;\n",
       "    }\n",
       "\n",
       "    .dataframe tbody tr th {\n",
       "        vertical-align: top;\n",
       "    }\n",
       "\n",
       "    .dataframe thead th {\n",
       "        text-align: right;\n",
       "    }\n",
       "</style>\n",
       "<table border=\"1\" class=\"dataframe\">\n",
       "  <thead>\n",
       "    <tr style=\"text-align: right;\">\n",
       "      <th></th>\n",
       "      <th>Period</th>\n",
       "      <th>Revenue</th>\n",
       "      <th>Sales_quantity</th>\n",
       "      <th>Average_cost</th>\n",
       "      <th>The_average_annual_payroll_of_the_region</th>\n",
       "    </tr>\n",
       "  </thead>\n",
       "  <tbody>\n",
       "    <tr>\n",
       "      <th>0</th>\n",
       "      <td>01.01.2015</td>\n",
       "      <td>16010072.12</td>\n",
       "      <td>12729.00</td>\n",
       "      <td>1257.76</td>\n",
       "      <td>30024676.00</td>\n",
       "    </tr>\n",
       "    <tr>\n",
       "      <th>1</th>\n",
       "      <td>01.02.2015</td>\n",
       "      <td>15807587.45</td>\n",
       "      <td>11636.00</td>\n",
       "      <td>1358.51</td>\n",
       "      <td>30024676.00</td>\n",
       "    </tr>\n",
       "    <tr>\n",
       "      <th>2</th>\n",
       "      <td>01.03.2015</td>\n",
       "      <td>22047146.02</td>\n",
       "      <td>15922.00</td>\n",
       "      <td>1384.70</td>\n",
       "      <td>30024676.00</td>\n",
       "    </tr>\n",
       "    <tr>\n",
       "      <th>3</th>\n",
       "      <td>01.04.2015</td>\n",
       "      <td>18814583.29</td>\n",
       "      <td>15227.00</td>\n",
       "      <td>1235.61</td>\n",
       "      <td>30024676.00</td>\n",
       "    </tr>\n",
       "    <tr>\n",
       "      <th>4</th>\n",
       "      <td>01.05.2015</td>\n",
       "      <td>14021479.61</td>\n",
       "      <td>8620.00</td>\n",
       "      <td>1626.62</td>\n",
       "      <td>30024676.00</td>\n",
       "    </tr>\n",
       "  </tbody>\n",
       "</table>\n",
       "</div>"
      ],
      "text/plain": [
       "       Period     Revenue  Sales_quantity  Average_cost  \\\n",
       "0  01.01.2015 16010072.12        12729.00       1257.76   \n",
       "1  01.02.2015 15807587.45        11636.00       1358.51   \n",
       "2  01.03.2015 22047146.02        15922.00       1384.70   \n",
       "3  01.04.2015 18814583.29        15227.00       1235.61   \n",
       "4  01.05.2015 14021479.61         8620.00       1626.62   \n",
       "\n",
       "   The_average_annual_payroll_of_the_region  \n",
       "0                               30024676.00  \n",
       "1                               30024676.00  \n",
       "2                               30024676.00  \n",
       "3                               30024676.00  \n",
       "4                               30024676.00  "
      ]
     },
     "execution_count": 14,
     "metadata": {},
     "output_type": "execute_result"
    }
   ],
   "source": [
    "df.head()"
   ]
  },
  {
   "cell_type": "markdown",
   "id": "bce3e365",
   "metadata": {},
   "source": [
    "Period:期間  \n",
    "Revenue:会社の収益  \n",
    "Sales_quantity:会社の売り上げ  \n",
    "Average_cost: 平均製造コスト  \n",
    "The_average_annual_payroll_of_the_region:地域の年間平均従業員数"
   ]
  },
  {
   "cell_type": "code",
   "execution_count": 15,
   "id": "e1b0f84e",
   "metadata": {},
   "outputs": [
    {
     "name": "stdout",
     "output_type": "stream",
     "text": [
      "<class 'pandas.core.frame.DataFrame'>\n",
      "RangeIndex: 96 entries, 0 to 95\n",
      "Data columns (total 5 columns):\n",
      " #   Column                                    Non-Null Count  Dtype  \n",
      "---  ------                                    --------------  -----  \n",
      " 0   Period                                    96 non-null     object \n",
      " 1   Revenue                                   64 non-null     float64\n",
      " 2   Sales_quantity                            64 non-null     float64\n",
      " 3   Average_cost                              64 non-null     float64\n",
      " 4   The_average_annual_payroll_of_the_region  64 non-null     float64\n",
      "dtypes: float64(4), object(1)\n",
      "memory usage: 3.9+ KB\n"
     ]
    }
   ],
   "source": [
    "df.info()"
   ]
  },
  {
   "cell_type": "code",
   "execution_count": 18,
   "id": "f978f872",
   "metadata": {},
   "outputs": [],
   "source": [
    "df['Period'] = pd.to_datetime(df['Period'])"
   ]
  },
  {
   "cell_type": "code",
   "execution_count": 19,
   "id": "00e801c5",
   "metadata": {},
   "outputs": [
    {
     "name": "stdout",
     "output_type": "stream",
     "text": [
      "<class 'pandas.core.frame.DataFrame'>\n",
      "RangeIndex: 96 entries, 0 to 95\n",
      "Data columns (total 5 columns):\n",
      " #   Column                                    Non-Null Count  Dtype         \n",
      "---  ------                                    --------------  -----         \n",
      " 0   Period                                    96 non-null     datetime64[ns]\n",
      " 1   Revenue                                   64 non-null     float64       \n",
      " 2   Sales_quantity                            64 non-null     float64       \n",
      " 3   Average_cost                              64 non-null     float64       \n",
      " 4   The_average_annual_payroll_of_the_region  64 non-null     float64       \n",
      "dtypes: datetime64[ns](1), float64(4)\n",
      "memory usage: 3.9 KB\n"
     ]
    }
   ],
   "source": [
    "df.info()"
   ]
  },
  {
   "cell_type": "code",
   "execution_count": 20,
   "id": "1ec9587b",
   "metadata": {
    "scrolled": true
   },
   "outputs": [
    {
     "name": "stdout",
     "output_type": "stream",
     "text": [
      "Time period from2015-01-01 00:00:00 to 2022-01-12 00:00:00\n"
     ]
    }
   ],
   "source": [
    "print(\"Time period from{} to {}\".format(df.Period.min(),df.Period.max()))"
   ]
  },
  {
   "cell_type": "code",
   "execution_count": 24,
   "id": "7201e088",
   "metadata": {},
   "outputs": [
    {
     "data": {
      "text/html": [
       "<div>\n",
       "<style scoped>\n",
       "    .dataframe tbody tr th:only-of-type {\n",
       "        vertical-align: middle;\n",
       "    }\n",
       "\n",
       "    .dataframe tbody tr th {\n",
       "        vertical-align: top;\n",
       "    }\n",
       "\n",
       "    .dataframe thead th {\n",
       "        text-align: right;\n",
       "    }\n",
       "</style>\n",
       "<table border=\"1\" class=\"dataframe\">\n",
       "  <thead>\n",
       "    <tr style=\"text-align: right;\">\n",
       "      <th></th>\n",
       "      <th>Revenue</th>\n",
       "      <th>Sales_quantity</th>\n",
       "      <th>Average_cost</th>\n",
       "      <th>The_average_annual_payroll_of_the_region</th>\n",
       "    </tr>\n",
       "  </thead>\n",
       "  <tbody>\n",
       "    <tr>\n",
       "      <th>count</th>\n",
       "      <td>64.00</td>\n",
       "      <td>64.00</td>\n",
       "      <td>64.00</td>\n",
       "      <td>64.00</td>\n",
       "    </tr>\n",
       "    <tr>\n",
       "      <th>mean</th>\n",
       "      <td>32360452.26</td>\n",
       "      <td>19197.38</td>\n",
       "      <td>1695.06</td>\n",
       "      <td>28690829.62</td>\n",
       "    </tr>\n",
       "    <tr>\n",
       "      <th>std</th>\n",
       "      <td>11641498.54</td>\n",
       "      <td>6591.29</td>\n",
       "      <td>296.84</td>\n",
       "      <td>1057190.52</td>\n",
       "    </tr>\n",
       "    <tr>\n",
       "      <th>min</th>\n",
       "      <td>14021479.61</td>\n",
       "      <td>8314.00</td>\n",
       "      <td>1110.58</td>\n",
       "      <td>27406473.00</td>\n",
       "    </tr>\n",
       "    <tr>\n",
       "      <th>25%</th>\n",
       "      <td>22426546.79</td>\n",
       "      <td>15065.50</td>\n",
       "      <td>1499.14</td>\n",
       "      <td>27828571.00</td>\n",
       "    </tr>\n",
       "    <tr>\n",
       "      <th>50%</th>\n",
       "      <td>32090875.10</td>\n",
       "      <td>18368.00</td>\n",
       "      <td>1654.40</td>\n",
       "      <td>28197847.00</td>\n",
       "    </tr>\n",
       "    <tr>\n",
       "      <th>75%</th>\n",
       "      <td>39929985.09</td>\n",
       "      <td>22856.25</td>\n",
       "      <td>1916.40</td>\n",
       "      <td>29878525.00</td>\n",
       "    </tr>\n",
       "    <tr>\n",
       "      <th>max</th>\n",
       "      <td>58756473.66</td>\n",
       "      <td>38069.00</td>\n",
       "      <td>2559.33</td>\n",
       "      <td>30024676.00</td>\n",
       "    </tr>\n",
       "  </tbody>\n",
       "</table>\n",
       "</div>"
      ],
      "text/plain": [
       "          Revenue  Sales_quantity  Average_cost  \\\n",
       "count       64.00           64.00         64.00   \n",
       "mean  32360452.26        19197.38       1695.06   \n",
       "std   11641498.54         6591.29        296.84   \n",
       "min   14021479.61         8314.00       1110.58   \n",
       "25%   22426546.79        15065.50       1499.14   \n",
       "50%   32090875.10        18368.00       1654.40   \n",
       "75%   39929985.09        22856.25       1916.40   \n",
       "max   58756473.66        38069.00       2559.33   \n",
       "\n",
       "       The_average_annual_payroll_of_the_region  \n",
       "count                                     64.00  \n",
       "mean                                28690829.62  \n",
       "std                                  1057190.52  \n",
       "min                                 27406473.00  \n",
       "25%                                 27828571.00  \n",
       "50%                                 28197847.00  \n",
       "75%                                 29878525.00  \n",
       "max                                 30024676.00  "
      ]
     },
     "execution_count": 24,
     "metadata": {},
     "output_type": "execute_result"
    }
   ],
   "source": [
    "df.describe()"
   ]
  },
  {
   "cell_type": "code",
   "execution_count": 31,
   "id": "84004c83",
   "metadata": {},
   "outputs": [
    {
     "data": {
      "image/png": "[encoded data removed]",
      "text/plain": [
       "<Figure size 432x288 with 1 Axes>"
      ]
     },
     "metadata": {
      "needs_background": "light"
     },
     "output_type": "display_data"
    }
   ],
   "source": [
    "df.groupby([df.Period.dt.year, df.Period.dt.month])['Sales_quantity'].mean().plot()\n",
    "df.groupby([df.Period.dt.year, df.Period.dt.month])['Average_cost'].mean().plot()\n",
    "plt.xlabel('Period')\n",
    "plt.ylabel('Revenue')\n",
    "plt.show()"
   ]
  },
  {
   "cell_type": "code",
   "execution_count": 35,
   "id": "3687f316",
   "metadata": {},
   "outputs": [
    {
     "data": {
      "image/png": "[encoded data removed]",
      "text/plain": [
       "<Figure size 432x288 with 1 Axes>"
      ]
     },
     "metadata": {
      "needs_background": "light"
     },
     "output_type": "display_data"
    }
   ],
   "source": [
    "df.groupby([df.Period.dt.year])['Revenue'].mean().plot()\n",
    "plt.xlabel('Period')\n",
    "plt.ylabel('Revenue')\n",
    "plt.yscale('log')\n",
    "plt.show()"
   ]
  },
  {
   "cell_type": "code",
   "execution_count": null,
   "id": "85fd333c",
   "metadata": {},
   "outputs": [],
   "source": []
  }
 ],
 "metadata": {
  "kernelspec": {
   "display_name": "Python 3",
   "language": "python",
   "name": "python3"
  },
  "language_info": {
   "codemirror_mode": {
    "name": "ipython",
    "version": 3
   },
   "file_extension": ".py",
   "mimetype": "text/x-python",
   "name": "python",
   "nbconvert_exporter": "python",
   "pygments_lexer": "ipython3",
   "version": "3.8.8"
  }
 },
 "nbformat": 4,
 "nbformat_minor": 5
}
